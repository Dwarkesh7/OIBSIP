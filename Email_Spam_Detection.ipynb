{
  "nbformat": 4,
  "nbformat_minor": 0,
  "metadata": {
    "colab": {
      "provenance": []
    },
    "kernelspec": {
      "name": "python3",
      "display_name": "Python 3"
    },
    "language_info": {
      "name": "python"
    }
  },
  "cells": [
    {
      "cell_type": "markdown",
      "source": [
        "#Load the dataset:"
      ],
      "metadata": {
        "id": "X4wp39WUjHde"
      }
    },
    {
      "cell_type": "code",
      "execution_count": null,
      "metadata": {
        "colab": {
          "base_uri": "https://localhost:8080/"
        },
        "id": "Hu7EfMeliE38",
        "outputId": "52daaa8a-333d-4af4-b885-d04d570bb39b"
      },
      "outputs": [
        {
          "output_type": "stream",
          "name": "stdout",
          "text": [
            "     v1                                                 v2 Unnamed: 2  \\\n",
            "0   ham  Go until jurong point, crazy.. Available only ...        NaN   \n",
            "1   ham                      Ok lar... Joking wif u oni...        NaN   \n",
            "2  spam  Free entry in 2 a wkly comp to win FA Cup fina...        NaN   \n",
            "3   ham  U dun say so early hor... U c already then say...        NaN   \n",
            "4   ham  Nah I don't think he goes to usf, he lives aro...        NaN   \n",
            "\n",
            "  Unnamed: 3 Unnamed: 4  \n",
            "0        NaN        NaN  \n",
            "1        NaN        NaN  \n",
            "2        NaN        NaN  \n",
            "3        NaN        NaN  \n",
            "4        NaN        NaN  \n"
          ]
        }
      ],
      "source": [
        "import pandas as pd\n",
        "\n",
        "# Load the dataset\n",
        "file_path = 'spam.csv'\n",
        "data = pd.read_csv(file_path, encoding='latin1')\n",
        "\n",
        "# Display the first few rows of the dataset\n",
        "print(data.head())"
      ]
    },
    {
      "cell_type": "markdown",
      "source": [
        "#Explore the dataset:\n",
        "\n"
      ],
      "metadata": {
        "id": "Ljnz4eP9jMxW"
      }
    },
    {
      "cell_type": "code",
      "source": [
        "# Check for missing values\n",
        "print(data.isnull().sum())\n",
        "\n",
        "# Display dataset information\n",
        "print(data.info())\n",
        "\n",
        "# Display unique values in each column\n",
        "for column in data.columns:\n",
        "    print(f\"{column}: {data[column].unique()}\")"
      ],
      "metadata": {
        "colab": {
          "base_uri": "https://localhost:8080/"
        },
        "id": "LVtM03WZi9Zt",
        "outputId": "e39f6354-e820-416d-d91c-0cda344fa5cc"
      },
      "execution_count": null,
      "outputs": [
        {
          "output_type": "stream",
          "name": "stdout",
          "text": [
            "v1               0\n",
            "v2               0\n",
            "Unnamed: 2    5522\n",
            "Unnamed: 3    5560\n",
            "Unnamed: 4    5566\n",
            "dtype: int64\n",
            "<class 'pandas.core.frame.DataFrame'>\n",
            "RangeIndex: 5572 entries, 0 to 5571\n",
            "Data columns (total 5 columns):\n",
            " #   Column      Non-Null Count  Dtype \n",
            "---  ------      --------------  ----- \n",
            " 0   v1          5572 non-null   object\n",
            " 1   v2          5572 non-null   object\n",
            " 2   Unnamed: 2  50 non-null     object\n",
            " 3   Unnamed: 3  12 non-null     object\n",
            " 4   Unnamed: 4  6 non-null      object\n",
            "dtypes: object(5)\n",
            "memory usage: 217.8+ KB\n",
            "None\n",
            "v1: ['ham' 'spam']\n",
            "v2: ['Go until jurong point, crazy.. Available only in bugis n great world la e buffet... Cine there got amore wat...'\n",
            " 'Ok lar... Joking wif u oni...'\n",
            " \"Free entry in 2 a wkly comp to win FA Cup final tkts 21st May 2005. Text FA to 87121 to receive entry question(std txt rate)T&C's apply 08452810075over18's\"\n",
            " ... 'Pity, * was in mood for that. So...any other suggestions?'\n",
            " \"The guy did some bitching but I acted like i'd be interested in buying something else next week and he gave it to us for free\"\n",
            " 'Rofl. Its true to its name']\n",
            "Unnamed: 2: [nan ' PO Box 5249'\n",
            " ' the person is definitely special for u..... But if the person is so special'\n",
            " ' HOWU DOIN? FOUNDURSELF A JOBYET SAUSAGE?LOVE JEN XXX\\\\\"\"'\n",
            " ' wanted to say hi. HI!!!\\\\\" Stop? Send STOP to 62468\"'\n",
            " 'this wont even start........ Datz confidence..\"' 'GN' '.;-):-D\"'\n",
            " 'just been in bedbut mite go 2 thepub l8tr if uwana mt up?loads a luv Jenxxx.\\\\\"\"'\n",
            " ' bt not his girlfrnd... G o o d n i g h t . . .@\"' ' I\\'ll come up\"'\n",
            " ' don\\'t miss ur best life for anything... Gud nyt...\"'\n",
            " ' just as a shop has to give a guarantee on what they sell. B. G.\"'\n",
            " ' But at d end my love compromised me for everything:-(\\\\\".. Gud mornin:-)\"'\n",
            " ' the toughest is acting Happy with all unspoken pain inside..\\\\\"\"'\n",
            " ' smoke hella weed\\\\\"\"' '\\\\\" not \\\\\"what i need to do.\\\\\"\"'\n",
            " 'JUST GOT PAYED2DAY & I HAVBEEN GIVEN Aå£50 PAY RISE 4MY WORK & HAVEBEEN MADE PRESCHOOLCO-ORDINATOR 2I AM FEELINGOOD LUV\\\\\"\"'\n",
            " ' justthought iåÕd sayhey! how u doin?nearly the endof me wk offdam nevamind!We will have 2Hook up sn if uwant m8? loveJen x.\\\\\"\"'\n",
            " 'JUST REALLYNEED 2DOCD.PLEASE DONTPLEASE DONTIGNORE MYCALLS'\n",
            " 'u hav2hear it!c u sn xxxx\\\\\"\"' \" I don't mind\"\n",
            " ' Dont Come Near My Body..!! Bcoz My Hands May Not Come 2 Wipe Ur Tears Off That Time..!Gud ni8\"'\n",
            " \"Well there's still a bit left if you guys want to tonight\"\n",
            " ' but dont try to prove\\\\\" ..... Gud mrng...\"'\n",
            " ' SHE SHUDVETOLD U. DID URGRAN KNOW?NEWAY'\n",
            " ' but watever u shared should be true\\\\\"....\"'\n",
            " ' like you are the KING\\\\\"...! OR \\\\\"Walk like you Dont care'\n",
            " ' HAD A COOL NYTHO' ' PO Box 1146 MK45 2WT (2/3)\"'\n",
            " ' \\\\\"It is d wonderful fruit that a tree gives when it is being hurt by a stone.. Good night......\"'\n",
            " ' we made you hold all the weed\\\\\"\"'\n",
            " ' but dont try to prove it..\\\\\" .Gud noon....\"'\n",
            " ' its a miracle to Love a person who can\\'t Love anyone except U...\\\\\" Gud nyt...\"'\n",
            " ' Gud night....\"' ' that\\'s the tiny street where the parking lot is\"'\n",
            " 'PROBPOP IN & CU SATTHEN HUNNY 4BREKKIE! LOVE JEN XXX. PSXTRA LRG PORTIONS 4 ME PLEASE \\\\\"\"'\n",
            " ' hopeSo hunny. i amnow feelin ill & ithink i may have tonsolitusaswell! damn iam layin in bedreal bored. lotsof luv me xxxx\\\\\"\"'\n",
            " ' GOD said'\n",
            " ' always give response 2 who cares 4 U\\\\\"... Gud night..swt dreams..take care\"'\n",
            " ' HOPE UR OK... WILL GIVE U A BUZ WEDLUNCH. GO OUTSOMEWHERE 4 ADRINK IN TOWN..CUD GO 2WATERSHD 4 A BIT? PPL FROMWRK WILL BTHERE. LOVE PETEXXX.\\\\\"\"'\n",
            " ' b\\'coz nobody will fight for u. Only u &amp; u have to fight for ur self &amp; win the battle. -VIVEKANAND- G 9t.. SD..\"'\n",
            " 'DEVIOUSBITCH.ANYWAY'\n",
            " ' ENJOYIN INDIANS AT THE MO..yeP. SaLL gOoD HehE ;> hows bout u shexy? Pete Xx\\\\\"\"']\n",
            "Unnamed: 3: [nan ' MK17 92H. 450Ppw 16\"' ' why to miss them' 'GE'\n",
            " 'U NO THECD ISV.IMPORTANT TOME 4 2MORO\\\\\"\"'\n",
            " 'i wil tolerat.bcs ur my someone..... But'\n",
            " ' ILLSPEAK 2 U2MORO WEN IM NOT ASLEEP...\\\\\"\"'\n",
            " 'whoever is the KING\\\\\"!... Gud nyt\"' ' TX 4 FONIN HON'\n",
            " ' \\\\\"OH No! COMPETITION\\\\\". Who knew' 'IåÕL CALL U\\\\\"\"']\n",
            "Unnamed: 4: [nan ' just Keep-in-touch\\\\\" gdeve..\"' 'GNT:-)\"'\n",
            " ' Never comfort me with a lie\\\\\" gud ni8 and sweet dreams\"'\n",
            " ' CALL 2MWEN IM BK FRMCLOUD 9! J X\\\\\"\"'\n",
            " ' one day these two will become FREINDS FOREVER!\"']\n"
          ]
        }
      ]
    },
    {
      "cell_type": "markdown",
      "source": [
        "#Preprocess the data:"
      ],
      "metadata": {
        "id": "CVRdw5aqj3L3"
      }
    },
    {
      "cell_type": "code",
      "source": [
        "from sklearn.model_selection import train_test_split\n",
        "from sklearn.feature_extraction.text import CountVectorizer\n",
        "\n",
        "# Drop unnecessary columns and rename relevant columns\n",
        "data = data.drop(['Unnamed: 2', 'Unnamed: 3', 'Unnamed: 4'], axis=1)\n",
        "data.columns = ['label', 'text']\n",
        "\n",
        "# Convert labels to binary values\n",
        "data['label'] = data['label'].map({'spam': 1, 'ham': 0})\n",
        "\n",
        "# Split the data into training and testing sets\n",
        "X_train, X_test, y_train, y_test = train_test_split(data['text'], data['label'], test_size=0.2, random_state=42)\n",
        "\n",
        "# Vectorize the text data\n",
        "vectorizer = CountVectorizer()\n",
        "X_train_vec = vectorizer.fit_transform(X_train)\n",
        "X_test_vec = vectorizer.transform(X_test)\n"
      ],
      "metadata": {
        "id": "u2qMpAv-jtsT"
      },
      "execution_count": null,
      "outputs": []
    },
    {
      "cell_type": "markdown",
      "source": [
        "#Train a machine learning model:"
      ],
      "metadata": {
        "id": "p-Xvjzvykj_8"
      }
    },
    {
      "cell_type": "code",
      "source": [
        "from sklearn.naive_bayes import MultinomialNB\n",
        "from sklearn.metrics import accuracy_score, precision_score, recall_score, f1_score\n",
        "\n",
        "# Train the model\n",
        "model = MultinomialNB()\n",
        "model.fit(X_train_vec, y_train)\n",
        "\n",
        "# Make predictions\n",
        "y_pred = model.predict(X_test_vec)\n"
      ],
      "metadata": {
        "id": "N1MzhBBDkFLT"
      },
      "execution_count": null,
      "outputs": []
    },
    {
      "cell_type": "markdown",
      "source": [
        "#Evaluate the model:"
      ],
      "metadata": {
        "id": "RsmHWBPqlDW2"
      }
    },
    {
      "cell_type": "code",
      "source": [
        "# Evaluate the model's performance\n",
        "print(\"Accuracy:\", accuracy_score(y_test, y_pred))\n",
        "print(\"Precision:\", precision_score(y_test, y_pred))\n",
        "print(\"Recall:\", recall_score(y_test, y_pred))\n",
        "print(\"F1 Score:\", f1_score(y_test, y_pred))\n"
      ],
      "metadata": {
        "colab": {
          "base_uri": "https://localhost:8080/"
        },
        "id": "cXpQ5S05k_rh",
        "outputId": "1cd98a37-e41c-4c8f-b0fb-d9c98fb62234"
      },
      "execution_count": null,
      "outputs": [
        {
          "output_type": "stream",
          "name": "stdout",
          "text": [
            "Accuracy: 0.9838565022421525\n",
            "Precision: 0.9852941176470589\n",
            "Recall: 0.8933333333333333\n",
            "F1 Score: 0.9370629370629371\n"
          ]
        }
      ]
    },
    {
      "cell_type": "markdown",
      "source": [
        "#Make predictions:"
      ],
      "metadata": {
        "id": "GhG6bg71lTdG"
      }
    },
    {
      "cell_type": "code",
      "source": [
        "# Example of predicting new emails\n",
        "new_emails = [\"Congratulations! You've won a free ticket.\", \"Hi, can we reschedule our meeting?\", \"Hurray! You've won a jackpot\"]\n",
        "new_emails_vec = vectorizer.transform(new_emails)\n",
        "predictions = model.predict(new_emails_vec)\n",
        "print(predictions)  # Output will be array of 0s and 1s\n",
        "#  (1 for Spam)\n",
        "#  (0 for Non-Spam)"
      ],
      "metadata": {
        "colab": {
          "base_uri": "https://localhost:8080/"
        },
        "id": "VVTYj4tolM7L",
        "outputId": "f911346e-ed8a-4be9-dbd5-764d2547c83c"
      },
      "execution_count": null,
      "outputs": [
        {
          "output_type": "stream",
          "name": "stdout",
          "text": [
            "[1 0 1]\n"
          ]
        }
      ]
    },
    {
      "cell_type": "code",
      "source": [],
      "metadata": {
        "id": "6Wt6WiqnlY0F"
      },
      "execution_count": null,
      "outputs": []
    }
  ]
}